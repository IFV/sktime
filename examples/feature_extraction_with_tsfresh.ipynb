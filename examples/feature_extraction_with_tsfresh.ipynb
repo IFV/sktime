{
 "cells": [
  {
   "cell_type": "markdown",
   "metadata": {},
   "source": [
    "# Feature extraction with tsfresh transformer\n",
    "\n",
    "In this tutorial, we show how you can use sktime with [tsfresh](https://tsfresh.readthedocs.io) to first extract features from time series, so that we can then use any scikit-learn estimator.\n",
    "\n",
    "## Preliminaries\n",
    "You have to install tsfresh if you haven't already. To install it, uncomment the cell below:"
   ]
  },
  {
   "cell_type": "code",
   "execution_count": 1,
   "metadata": {},
   "outputs": [],
   "source": [
    "# !pip install --upgrade tsfresh"
   ]
  },
  {
   "cell_type": "code",
   "execution_count": 2,
   "metadata": {},
   "outputs": [],
   "source": [
    "import numpy as np\n",
    "from sklearn.model_selection import train_test_split\n",
    "from sklearn.ensemble import RandomForestClassifier\n",
    "from sklearn.pipeline import make_pipeline\n",
    "from sktime.datasets import load_basic_motions\n",
    "from sktime.datasets import load_arrow_head\n",
    "from sktime.transformers.series_as_features.summarize import \\\n",
    "    TSFreshFeatureExtractor"
   ]
  },
  {
   "cell_type": "markdown",
   "metadata": {},
   "source": [
    "## Univariate time series classification data\n",
    "\n",
    "For more details on the data set, see the [univariate time series classification notebook](https://github.com/alan-turing-institute/sktime/blob/master/examples/02_classification_univariate.ipynb)."
   ]
  },
  {
   "cell_type": "code",
   "execution_count": 3,
   "metadata": {},
   "outputs": [
    {
     "name": "stdout",
     "output_type": "stream",
     "text": [
      "(158, 1) (158,) (53, 1) (53,)\n"
     ]
    }
   ],
   "source": [
    "X, y = load_arrow_head(return_X_y=True)\n",
    "X_train, X_test, y_train, y_test = train_test_split(X, y)\n",
    "print(X_train.shape, y_train.shape, X_test.shape, y_test.shape)"
   ]
  },
  {
   "cell_type": "code",
   "execution_count": 4,
   "metadata": {
    "jupyter": {
     "outputs_hidden": false
    },
    "pycharm": {
     "name": "#%%\n"
    }
   },
   "outputs": [
    {
     "data": {
      "text/html": [
       "<div>\n",
       "<style scoped>\n",
       "    .dataframe tbody tr th:only-of-type {\n",
       "        vertical-align: middle;\n",
       "    }\n",
       "\n",
       "    .dataframe tbody tr th {\n",
       "        vertical-align: top;\n",
       "    }\n",
       "\n",
       "    .dataframe thead th {\n",
       "        text-align: right;\n",
       "    }\n",
       "</style>\n",
       "<table border=\"1\" class=\"dataframe\">\n",
       "  <thead>\n",
       "    <tr style=\"text-align: right;\">\n",
       "      <th></th>\n",
       "      <th>dim_0</th>\n",
       "    </tr>\n",
       "  </thead>\n",
       "  <tbody>\n",
       "    <tr>\n",
       "      <th>112</th>\n",
       "      <td>0     -1.8515\n",
       "1     -1.8436\n",
       "2     -1.8209\n",
       "3   ...</td>\n",
       "    </tr>\n",
       "    <tr>\n",
       "      <th>72</th>\n",
       "      <td>0     -1.7289\n",
       "1     -1.6855\n",
       "2     -1.6324\n",
       "3   ...</td>\n",
       "    </tr>\n",
       "    <tr>\n",
       "      <th>28</th>\n",
       "      <td>0     -2.0043\n",
       "1     -1.9856\n",
       "2     -1.9533\n",
       "3   ...</td>\n",
       "    </tr>\n",
       "    <tr>\n",
       "      <th>26</th>\n",
       "      <td>0     -1.9412\n",
       "1     -1.9387\n",
       "2     -1.9353\n",
       "3   ...</td>\n",
       "    </tr>\n",
       "    <tr>\n",
       "      <th>170</th>\n",
       "      <td>0     -1.6251\n",
       "1     -1.6230\n",
       "2     -1.6261\n",
       "3   ...</td>\n",
       "    </tr>\n",
       "  </tbody>\n",
       "</table>\n",
       "</div>"
      ],
      "text/plain": [
       "                                                 dim_0\n",
       "112  0     -1.8515\n",
       "1     -1.8436\n",
       "2     -1.8209\n",
       "3   ...\n",
       "72   0     -1.7289\n",
       "1     -1.6855\n",
       "2     -1.6324\n",
       "3   ...\n",
       "28   0     -2.0043\n",
       "1     -1.9856\n",
       "2     -1.9533\n",
       "3   ...\n",
       "26   0     -1.9412\n",
       "1     -1.9387\n",
       "2     -1.9353\n",
       "3   ...\n",
       "170  0     -1.6251\n",
       "1     -1.6230\n",
       "2     -1.6261\n",
       "3   ..."
      ]
     },
     "execution_count": 4,
     "metadata": {},
     "output_type": "execute_result"
    }
   ],
   "source": [
    "X_train.head()"
   ]
  },
  {
   "cell_type": "code",
   "execution_count": 5,
   "metadata": {},
   "outputs": [
    {
     "data": {
      "text/plain": [
       "array(['0', '1', '2'], dtype=object)"
      ]
     },
     "execution_count": 5,
     "metadata": {},
     "output_type": "execute_result"
    }
   ],
   "source": [
    "# binary classification task\n",
    "np.unique(y_train)"
   ]
  },
  {
   "cell_type": "markdown",
   "metadata": {},
   "source": [
    "## Using tsfresh to extract features"
   ]
  },
  {
   "cell_type": "code",
   "execution_count": 6,
   "metadata": {},
   "outputs": [
    {
     "name": "stderr",
     "output_type": "stream",
     "text": [
      "/Users/travis/build/alan-turing-institute/sktime/sktime/transformers/series_as_features/summarize/_tsfresh.py:150: UserWarning: Found non-unique index, replaced with unique index.\n",
      "  warn(\"Found non-unique index, replaced with unique index.\")\n"
     ]
    },
    {
     "name": "stderr",
     "output_type": "stream",
     "text": [
      "\r",
      "Feature Extraction:   0%|          | 0/5 [00:00<?, ?it/s]"
     ]
    },
    {
     "name": "stderr",
     "output_type": "stream",
     "text": [
      "\r",
      "Feature Extraction:  20%|██        | 1/5 [00:04<00:18,  4.63s/it]"
     ]
    },
    {
     "name": "stderr",
     "output_type": "stream",
     "text": [
      "\r",
      "Feature Extraction:  40%|████      | 2/5 [00:09<00:13,  4.62s/it]"
     ]
    },
    {
     "name": "stderr",
     "output_type": "stream",
     "text": [
      "\r",
      "Feature Extraction:  60%|██████    | 3/5 [00:13<00:09,  4.60s/it]"
     ]
    },
    {
     "name": "stderr",
     "output_type": "stream",
     "text": [
      "\r",
      "Feature Extraction:  80%|████████  | 4/5 [00:18<00:04,  4.58s/it]"
     ]
    },
    {
     "name": "stderr",
     "output_type": "stream",
     "text": [
      "\r",
      "Feature Extraction: 100%|██████████| 5/5 [00:22<00:00,  4.49s/it]"
     ]
    },
    {
     "name": "stderr",
     "output_type": "stream",
     "text": [
      "\r",
      "Feature Extraction: 100%|██████████| 5/5 [00:22<00:00,  4.52s/it]"
     ]
    },
    {
     "name": "stderr",
     "output_type": "stream",
     "text": [
      "\n"
     ]
    },
    {
     "data": {
      "text/html": [
       "<div>\n",
       "<style scoped>\n",
       "    .dataframe tbody tr th:only-of-type {\n",
       "        vertical-align: middle;\n",
       "    }\n",
       "\n",
       "    .dataframe tbody tr th {\n",
       "        vertical-align: top;\n",
       "    }\n",
       "\n",
       "    .dataframe thead th {\n",
       "        text-align: right;\n",
       "    }\n",
       "</style>\n",
       "<table border=\"1\" class=\"dataframe\">\n",
       "  <thead>\n",
       "    <tr style=\"text-align: right;\">\n",
       "      <th>variable</th>\n",
       "      <th>dim_0__abs_energy</th>\n",
       "      <th>dim_0__absolute_sum_of_changes</th>\n",
       "      <th>dim_0__agg_autocorrelation__f_agg_\"mean\"__maxlag_40</th>\n",
       "      <th>dim_0__agg_autocorrelation__f_agg_\"median\"__maxlag_40</th>\n",
       "      <th>dim_0__agg_autocorrelation__f_agg_\"var\"__maxlag_40</th>\n",
       "      <th>dim_0__agg_linear_trend__attr_\"intercept\"__chunk_len_10__f_agg_\"max\"</th>\n",
       "      <th>dim_0__agg_linear_trend__attr_\"intercept\"__chunk_len_10__f_agg_\"mean\"</th>\n",
       "      <th>dim_0__agg_linear_trend__attr_\"intercept\"__chunk_len_10__f_agg_\"min\"</th>\n",
       "      <th>dim_0__agg_linear_trend__attr_\"intercept\"__chunk_len_10__f_agg_\"var\"</th>\n",
       "      <th>dim_0__agg_linear_trend__attr_\"intercept\"__chunk_len_50__f_agg_\"max\"</th>\n",
       "      <th>...</th>\n",
       "      <th>dim_0__symmetry_looking__r_0.9500000000000001</th>\n",
       "      <th>dim_0__time_reversal_asymmetry_statistic__lag_1</th>\n",
       "      <th>dim_0__time_reversal_asymmetry_statistic__lag_2</th>\n",
       "      <th>dim_0__time_reversal_asymmetry_statistic__lag_3</th>\n",
       "      <th>dim_0__value_count__value_-1</th>\n",
       "      <th>dim_0__value_count__value_0</th>\n",
       "      <th>dim_0__value_count__value_1</th>\n",
       "      <th>dim_0__variance</th>\n",
       "      <th>dim_0__variance_larger_than_standard_deviation</th>\n",
       "      <th>dim_0__variation_coefficient</th>\n",
       "    </tr>\n",
       "  </thead>\n",
       "  <tbody>\n",
       "    <tr>\n",
       "      <th>0</th>\n",
       "      <td>249.998715</td>\n",
       "      <td>81.240312</td>\n",
       "      <td>0.244798</td>\n",
       "      <td>0.294510</td>\n",
       "      <td>0.107511</td>\n",
       "      <td>-0.251815</td>\n",
       "      <td>-0.510598</td>\n",
       "      <td>-1.123656</td>\n",
       "      <td>0.088376</td>\n",
       "      <td>0.709372</td>\n",
       "      <td>...</td>\n",
       "      <td>1.0</td>\n",
       "      <td>0.060355</td>\n",
       "      <td>0.015805</td>\n",
       "      <td>0.001493</td>\n",
       "      <td>0.0</td>\n",
       "      <td>0.0</td>\n",
       "      <td>0.0</td>\n",
       "      <td>0.996011</td>\n",
       "      <td>0.0</td>\n",
       "      <td>1.001995e+06</td>\n",
       "    </tr>\n",
       "    <tr>\n",
       "      <th>1</th>\n",
       "      <td>249.997573</td>\n",
       "      <td>78.139454</td>\n",
       "      <td>0.189190</td>\n",
       "      <td>0.244795</td>\n",
       "      <td>0.142444</td>\n",
       "      <td>0.024702</td>\n",
       "      <td>-0.250290</td>\n",
       "      <td>-0.833451</td>\n",
       "      <td>0.082725</td>\n",
       "      <td>0.886570</td>\n",
       "      <td>...</td>\n",
       "      <td>1.0</td>\n",
       "      <td>0.039653</td>\n",
       "      <td>-0.000263</td>\n",
       "      <td>-0.012901</td>\n",
       "      <td>0.0</td>\n",
       "      <td>0.0</td>\n",
       "      <td>0.0</td>\n",
       "      <td>0.996006</td>\n",
       "      <td>0.0</td>\n",
       "      <td>-5.175584e+05</td>\n",
       "    </tr>\n",
       "    <tr>\n",
       "      <th>2</th>\n",
       "      <td>250.000022</td>\n",
       "      <td>84.413670</td>\n",
       "      <td>0.269949</td>\n",
       "      <td>0.282165</td>\n",
       "      <td>0.075803</td>\n",
       "      <td>-0.197516</td>\n",
       "      <td>-0.547911</td>\n",
       "      <td>-1.120524</td>\n",
       "      <td>0.095315</td>\n",
       "      <td>0.674956</td>\n",
       "      <td>...</td>\n",
       "      <td>1.0</td>\n",
       "      <td>0.055973</td>\n",
       "      <td>0.009375</td>\n",
       "      <td>-0.022453</td>\n",
       "      <td>0.0</td>\n",
       "      <td>0.0</td>\n",
       "      <td>0.0</td>\n",
       "      <td>0.996016</td>\n",
       "      <td>0.0</td>\n",
       "      <td>9.209541e+05</td>\n",
       "    </tr>\n",
       "    <tr>\n",
       "      <th>3</th>\n",
       "      <td>249.999306</td>\n",
       "      <td>86.218978</td>\n",
       "      <td>0.090826</td>\n",
       "      <td>0.112809</td>\n",
       "      <td>0.145072</td>\n",
       "      <td>0.247431</td>\n",
       "      <td>-0.157703</td>\n",
       "      <td>-1.092900</td>\n",
       "      <td>0.185859</td>\n",
       "      <td>1.281764</td>\n",
       "      <td>...</td>\n",
       "      <td>1.0</td>\n",
       "      <td>0.059999</td>\n",
       "      <td>-0.006950</td>\n",
       "      <td>-0.026415</td>\n",
       "      <td>0.0</td>\n",
       "      <td>0.0</td>\n",
       "      <td>0.0</td>\n",
       "      <td>0.996013</td>\n",
       "      <td>0.0</td>\n",
       "      <td>-1.727580e+06</td>\n",
       "    </tr>\n",
       "    <tr>\n",
       "      <th>4</th>\n",
       "      <td>249.999532</td>\n",
       "      <td>78.012346</td>\n",
       "      <td>0.350690</td>\n",
       "      <td>0.396303</td>\n",
       "      <td>0.081213</td>\n",
       "      <td>-0.294125</td>\n",
       "      <td>-0.681645</td>\n",
       "      <td>-1.209748</td>\n",
       "      <td>0.105016</td>\n",
       "      <td>0.681067</td>\n",
       "      <td>...</td>\n",
       "      <td>1.0</td>\n",
       "      <td>0.031419</td>\n",
       "      <td>0.002625</td>\n",
       "      <td>-0.017964</td>\n",
       "      <td>0.0</td>\n",
       "      <td>0.0</td>\n",
       "      <td>0.0</td>\n",
       "      <td>0.996014</td>\n",
       "      <td>0.0</td>\n",
       "      <td>-1.304684e+06</td>\n",
       "    </tr>\n",
       "  </tbody>\n",
       "</table>\n",
       "<p>5 rows × 757 columns</p>\n",
       "</div>"
      ],
      "text/plain": [
       "variable  dim_0__abs_energy  dim_0__absolute_sum_of_changes  \\\n",
       "0                249.998715                       81.240312   \n",
       "1                249.997573                       78.139454   \n",
       "2                250.000022                       84.413670   \n",
       "3                249.999306                       86.218978   \n",
       "4                249.999532                       78.012346   \n",
       "\n",
       "variable  dim_0__agg_autocorrelation__f_agg_\"mean\"__maxlag_40  \\\n",
       "0                                                  0.244798     \n",
       "1                                                  0.189190     \n",
       "2                                                  0.269949     \n",
       "3                                                  0.090826     \n",
       "4                                                  0.350690     \n",
       "\n",
       "variable  dim_0__agg_autocorrelation__f_agg_\"median\"__maxlag_40  \\\n",
       "0                                                  0.294510       \n",
       "1                                                  0.244795       \n",
       "2                                                  0.282165       \n",
       "3                                                  0.112809       \n",
       "4                                                  0.396303       \n",
       "\n",
       "variable  dim_0__agg_autocorrelation__f_agg_\"var\"__maxlag_40  \\\n",
       "0                                                  0.107511    \n",
       "1                                                  0.142444    \n",
       "2                                                  0.075803    \n",
       "3                                                  0.145072    \n",
       "4                                                  0.081213    \n",
       "\n",
       "variable  dim_0__agg_linear_trend__attr_\"intercept\"__chunk_len_10__f_agg_\"max\"  \\\n",
       "0                                                 -0.251815                      \n",
       "1                                                  0.024702                      \n",
       "2                                                 -0.197516                      \n",
       "3                                                  0.247431                      \n",
       "4                                                 -0.294125                      \n",
       "\n",
       "variable  dim_0__agg_linear_trend__attr_\"intercept\"__chunk_len_10__f_agg_\"mean\"  \\\n",
       "0                                                 -0.510598                       \n",
       "1                                                 -0.250290                       \n",
       "2                                                 -0.547911                       \n",
       "3                                                 -0.157703                       \n",
       "4                                                 -0.681645                       \n",
       "\n",
       "variable  dim_0__agg_linear_trend__attr_\"intercept\"__chunk_len_10__f_agg_\"min\"  \\\n",
       "0                                                 -1.123656                      \n",
       "1                                                 -0.833451                      \n",
       "2                                                 -1.120524                      \n",
       "3                                                 -1.092900                      \n",
       "4                                                 -1.209748                      \n",
       "\n",
       "variable  dim_0__agg_linear_trend__attr_\"intercept\"__chunk_len_10__f_agg_\"var\"  \\\n",
       "0                                                  0.088376                      \n",
       "1                                                  0.082725                      \n",
       "2                                                  0.095315                      \n",
       "3                                                  0.185859                      \n",
       "4                                                  0.105016                      \n",
       "\n",
       "variable  dim_0__agg_linear_trend__attr_\"intercept\"__chunk_len_50__f_agg_\"max\"  \\\n",
       "0                                                  0.709372                      \n",
       "1                                                  0.886570                      \n",
       "2                                                  0.674956                      \n",
       "3                                                  1.281764                      \n",
       "4                                                  0.681067                      \n",
       "\n",
       "variable  ...  dim_0__symmetry_looking__r_0.9500000000000001  \\\n",
       "0         ...                                            1.0   \n",
       "1         ...                                            1.0   \n",
       "2         ...                                            1.0   \n",
       "3         ...                                            1.0   \n",
       "4         ...                                            1.0   \n",
       "\n",
       "variable  dim_0__time_reversal_asymmetry_statistic__lag_1  \\\n",
       "0                                                0.060355   \n",
       "1                                                0.039653   \n",
       "2                                                0.055973   \n",
       "3                                                0.059999   \n",
       "4                                                0.031419   \n",
       "\n",
       "variable  dim_0__time_reversal_asymmetry_statistic__lag_2  \\\n",
       "0                                                0.015805   \n",
       "1                                               -0.000263   \n",
       "2                                                0.009375   \n",
       "3                                               -0.006950   \n",
       "4                                                0.002625   \n",
       "\n",
       "variable  dim_0__time_reversal_asymmetry_statistic__lag_3  \\\n",
       "0                                                0.001493   \n",
       "1                                               -0.012901   \n",
       "2                                               -0.022453   \n",
       "3                                               -0.026415   \n",
       "4                                               -0.017964   \n",
       "\n",
       "variable  dim_0__value_count__value_-1  dim_0__value_count__value_0  \\\n",
       "0                                  0.0                          0.0   \n",
       "1                                  0.0                          0.0   \n",
       "2                                  0.0                          0.0   \n",
       "3                                  0.0                          0.0   \n",
       "4                                  0.0                          0.0   \n",
       "\n",
       "variable  dim_0__value_count__value_1  dim_0__variance  \\\n",
       "0                                 0.0         0.996011   \n",
       "1                                 0.0         0.996006   \n",
       "2                                 0.0         0.996016   \n",
       "3                                 0.0         0.996013   \n",
       "4                                 0.0         0.996014   \n",
       "\n",
       "variable  dim_0__variance_larger_than_standard_deviation  \\\n",
       "0                                                    0.0   \n",
       "1                                                    0.0   \n",
       "2                                                    0.0   \n",
       "3                                                    0.0   \n",
       "4                                                    0.0   \n",
       "\n",
       "variable  dim_0__variation_coefficient  \n",
       "0                         1.001995e+06  \n",
       "1                        -5.175584e+05  \n",
       "2                         9.209541e+05  \n",
       "3                        -1.727580e+06  \n",
       "4                        -1.304684e+06  \n",
       "\n",
       "[5 rows x 757 columns]"
      ]
     },
     "execution_count": 6,
     "metadata": {},
     "output_type": "execute_result"
    }
   ],
   "source": [
    "# tf = TsFreshTransfomer()\n",
    "t = TSFreshFeatureExtractor(default_fc_parameters=\"efficient\", show_warnings=False)\n",
    "Xt = t.fit_transform(X_train)\n",
    "Xt.head()"
   ]
  },
  {
   "cell_type": "markdown",
   "metadata": {},
   "source": [
    "## Using tsfresh with sktime"
   ]
  },
  {
   "cell_type": "code",
   "execution_count": 7,
   "metadata": {},
   "outputs": [
    {
     "name": "stderr",
     "output_type": "stream",
     "text": [
      "/Users/travis/build/alan-turing-institute/sktime/sktime/transformers/series_as_features/summarize/_tsfresh.py:150: UserWarning: Found non-unique index, replaced with unique index.\n",
      "  warn(\"Found non-unique index, replaced with unique index.\")\n"
     ]
    },
    {
     "name": "stderr",
     "output_type": "stream",
     "text": [
      "\r",
      "Feature Extraction:   0%|          | 0/5 [00:00<?, ?it/s]"
     ]
    },
    {
     "name": "stderr",
     "output_type": "stream",
     "text": [
      "\r",
      "Feature Extraction:  20%|██        | 1/5 [00:04<00:18,  4.65s/it]"
     ]
    },
    {
     "name": "stderr",
     "output_type": "stream",
     "text": [
      "\r",
      "Feature Extraction:  40%|████      | 2/5 [00:09<00:13,  4.61s/it]"
     ]
    },
    {
     "name": "stderr",
     "output_type": "stream",
     "text": [
      "\r",
      "Feature Extraction:  60%|██████    | 3/5 [00:13<00:09,  4.59s/it]"
     ]
    },
    {
     "name": "stderr",
     "output_type": "stream",
     "text": [
      "\r",
      "Feature Extraction:  80%|████████  | 4/5 [00:18<00:04,  4.58s/it]"
     ]
    },
    {
     "name": "stderr",
     "output_type": "stream",
     "text": [
      "\r",
      "Feature Extraction: 100%|██████████| 5/5 [00:23<00:00,  4.69s/it]"
     ]
    },
    {
     "name": "stderr",
     "output_type": "stream",
     "text": [
      "\r",
      "Feature Extraction: 100%|██████████| 5/5 [00:23<00:00,  4.64s/it]"
     ]
    },
    {
     "name": "stderr",
     "output_type": "stream",
     "text": [
      "\n"
     ]
    },
    {
     "name": "stderr",
     "output_type": "stream",
     "text": [
      "/Users/travis/build/alan-turing-institute/sktime/sktime/transformers/series_as_features/summarize/_tsfresh.py:150: UserWarning: Found non-unique index, replaced with unique index.\n",
      "  warn(\"Found non-unique index, replaced with unique index.\")\n"
     ]
    },
    {
     "name": "stderr",
     "output_type": "stream",
     "text": [
      "\r",
      "Feature Extraction:   0%|          | 0/5 [00:00<?, ?it/s]"
     ]
    },
    {
     "name": "stderr",
     "output_type": "stream",
     "text": [
      "\r",
      "Feature Extraction:  20%|██        | 1/5 [00:01<00:06,  1.61s/it]"
     ]
    },
    {
     "name": "stderr",
     "output_type": "stream",
     "text": [
      "\r",
      "Feature Extraction:  40%|████      | 2/5 [00:03<00:04,  1.60s/it]"
     ]
    },
    {
     "name": "stderr",
     "output_type": "stream",
     "text": [
      "\r",
      "Feature Extraction:  60%|██████    | 3/5 [00:04<00:03,  1.59s/it]"
     ]
    },
    {
     "name": "stderr",
     "output_type": "stream",
     "text": [
      "\r",
      "Feature Extraction:  80%|████████  | 4/5 [00:06<00:01,  1.58s/it]"
     ]
    },
    {
     "name": "stderr",
     "output_type": "stream",
     "text": [
      "\r",
      "Feature Extraction: 100%|██████████| 5/5 [00:07<00:00,  1.48s/it]"
     ]
    },
    {
     "name": "stderr",
     "output_type": "stream",
     "text": [
      "\r",
      "Feature Extraction: 100%|██████████| 5/5 [00:07<00:00,  1.51s/it]"
     ]
    },
    {
     "name": "stderr",
     "output_type": "stream",
     "text": [
      "\n"
     ]
    },
    {
     "data": {
      "text/plain": [
       "0.8113207547169812"
      ]
     },
     "execution_count": 7,
     "metadata": {},
     "output_type": "execute_result"
    }
   ],
   "source": [
    "classifier = make_pipeline(\n",
    "    TSFreshFeatureExtractor(default_fc_parameters=\"efficient\", show_warnings=False),\n",
    "    RandomForestClassifier()\n",
    ")\n",
    "classifier.fit(X_train, y_train)\n",
    "classifier.score(X_test, y_test)"
   ]
  },
  {
   "cell_type": "markdown",
   "metadata": {},
   "source": [
    "## Multivariate time series classification data"
   ]
  },
  {
   "cell_type": "code",
   "execution_count": 8,
   "metadata": {
    "scrolled": true
   },
   "outputs": [
    {
     "name": "stdout",
     "output_type": "stream",
     "text": [
      "(60, 6) (60,) (20, 6) (20,)\n"
     ]
    }
   ],
   "source": [
    "X, y = load_basic_motions(return_X_y=True)\n",
    "X_train, X_test, y_train, y_test = train_test_split(X, y)\n",
    "print(X_train.shape, y_train.shape, X_test.shape, y_test.shape)"
   ]
  },
  {
   "cell_type": "code",
   "execution_count": 9,
   "metadata": {
    "jupyter": {
     "outputs_hidden": false
    },
    "pycharm": {
     "name": "#%%\n"
    }
   },
   "outputs": [
    {
     "data": {
      "text/html": [
       "<div>\n",
       "<style scoped>\n",
       "    .dataframe tbody tr th:only-of-type {\n",
       "        vertical-align: middle;\n",
       "    }\n",
       "\n",
       "    .dataframe tbody tr th {\n",
       "        vertical-align: top;\n",
       "    }\n",
       "\n",
       "    .dataframe thead th {\n",
       "        text-align: right;\n",
       "    }\n",
       "</style>\n",
       "<table border=\"1\" class=\"dataframe\">\n",
       "  <thead>\n",
       "    <tr style=\"text-align: right;\">\n",
       "      <th></th>\n",
       "      <th>dim_0</th>\n",
       "      <th>dim_1</th>\n",
       "      <th>dim_2</th>\n",
       "      <th>dim_3</th>\n",
       "      <th>dim_4</th>\n",
       "      <th>dim_5</th>\n",
       "    </tr>\n",
       "  </thead>\n",
       "  <tbody>\n",
       "    <tr>\n",
       "      <th>11</th>\n",
       "      <td>0     -0.193013\n",
       "1     -0.193013\n",
       "2      2.40398...</td>\n",
       "      <td>0     -0.106266\n",
       "1     -0.106266\n",
       "2      0.52392...</td>\n",
       "      <td>0    -0.636563\n",
       "1    -0.636563\n",
       "2    -1.166243\n",
       "3...</td>\n",
       "      <td>0    -0.087891\n",
       "1    -0.087891\n",
       "2    -2.716640\n",
       "3...</td>\n",
       "      <td>0     0.010653\n",
       "1     0.010653\n",
       "2     1.297062\n",
       "3...</td>\n",
       "      <td>0     0.205080\n",
       "1     0.205080\n",
       "2    -0.609912\n",
       "3...</td>\n",
       "    </tr>\n",
       "    <tr>\n",
       "      <th>7</th>\n",
       "      <td>0    -0.366403\n",
       "1    -0.366403\n",
       "2     0.126830\n",
       "3...</td>\n",
       "      <td>0     0.331289\n",
       "1     0.331289\n",
       "2     1.060159\n",
       "3...</td>\n",
       "      <td>0    -0.817845\n",
       "1    -0.817845\n",
       "2     0.285714\n",
       "3...</td>\n",
       "      <td>0    -0.167792\n",
       "1    -0.167792\n",
       "2     0.170456\n",
       "3...</td>\n",
       "      <td>0    -0.093218\n",
       "1    -0.093218\n",
       "2    -0.117188\n",
       "3...</td>\n",
       "      <td>0     0.157139\n",
       "1     0.157139\n",
       "2     0.719111\n",
       "3...</td>\n",
       "    </tr>\n",
       "    <tr>\n",
       "      <th>31</th>\n",
       "      <td>0     0.036607\n",
       "1     0.036607\n",
       "2     0.265778\n",
       "3...</td>\n",
       "      <td>0     0.341686\n",
       "1     0.341686\n",
       "2    -0.164943\n",
       "3...</td>\n",
       "      <td>0    -0.694948\n",
       "1    -0.694948\n",
       "2    -0.635560\n",
       "3...</td>\n",
       "      <td>0    -0.253020\n",
       "1    -0.253020\n",
       "2    -0.354229\n",
       "3...</td>\n",
       "      <td>0    -0.082565\n",
       "1    -0.082565\n",
       "2    -0.516694\n",
       "3...</td>\n",
       "      <td>0    -0.090555\n",
       "1    -0.090555\n",
       "2     1.470182\n",
       "3...</td>\n",
       "    </tr>\n",
       "    <tr>\n",
       "      <th>17</th>\n",
       "      <td>0      0.324449\n",
       "1      0.324449\n",
       "2      9.29442...</td>\n",
       "      <td>0     -0.977516\n",
       "1     -0.977516\n",
       "2     -6.96322...</td>\n",
       "      <td>0    -1.260218\n",
       "1    -1.260218\n",
       "2    -2.498493\n",
       "3...</td>\n",
       "      <td>0    -0.788358\n",
       "1    -0.788358\n",
       "2     2.434323\n",
       "3...</td>\n",
       "      <td>0     0.316941\n",
       "1     0.316941\n",
       "2    -0.079901\n",
       "3...</td>\n",
       "      <td>0     0.588605\n",
       "1     0.588605\n",
       "2     6.535916\n",
       "3...</td>\n",
       "    </tr>\n",
       "    <tr>\n",
       "      <th>37</th>\n",
       "      <td>0    -0.046089\n",
       "1    -0.283051\n",
       "2    -0.587748\n",
       "3...</td>\n",
       "      <td>0    -0.738026\n",
       "1    -0.314572\n",
       "2     3.388108\n",
       "3...</td>\n",
       "      <td>0     0.179667\n",
       "1    -0.724257\n",
       "2    -0.223563\n",
       "3...</td>\n",
       "      <td>0     0.364882\n",
       "1    -1.163894\n",
       "2    -2.543521\n",
       "3...</td>\n",
       "      <td>0    -0.237040\n",
       "1    -0.101208\n",
       "2     0.402169\n",
       "3...</td>\n",
       "      <td>0     0.386189\n",
       "1    -0.165129\n",
       "2    -0.897557\n",
       "3...</td>\n",
       "    </tr>\n",
       "  </tbody>\n",
       "</table>\n",
       "</div>"
      ],
      "text/plain": [
       "                                                dim_0  \\\n",
       "11  0     -0.193013\n",
       "1     -0.193013\n",
       "2      2.40398...   \n",
       "7   0    -0.366403\n",
       "1    -0.366403\n",
       "2     0.126830\n",
       "3...   \n",
       "31  0     0.036607\n",
       "1     0.036607\n",
       "2     0.265778\n",
       "3...   \n",
       "17  0      0.324449\n",
       "1      0.324449\n",
       "2      9.29442...   \n",
       "37  0    -0.046089\n",
       "1    -0.283051\n",
       "2    -0.587748\n",
       "3...   \n",
       "\n",
       "                                                dim_1  \\\n",
       "11  0     -0.106266\n",
       "1     -0.106266\n",
       "2      0.52392...   \n",
       "7   0     0.331289\n",
       "1     0.331289\n",
       "2     1.060159\n",
       "3...   \n",
       "31  0     0.341686\n",
       "1     0.341686\n",
       "2    -0.164943\n",
       "3...   \n",
       "17  0     -0.977516\n",
       "1     -0.977516\n",
       "2     -6.96322...   \n",
       "37  0    -0.738026\n",
       "1    -0.314572\n",
       "2     3.388108\n",
       "3...   \n",
       "\n",
       "                                                dim_2  \\\n",
       "11  0    -0.636563\n",
       "1    -0.636563\n",
       "2    -1.166243\n",
       "3...   \n",
       "7   0    -0.817845\n",
       "1    -0.817845\n",
       "2     0.285714\n",
       "3...   \n",
       "31  0    -0.694948\n",
       "1    -0.694948\n",
       "2    -0.635560\n",
       "3...   \n",
       "17  0    -1.260218\n",
       "1    -1.260218\n",
       "2    -2.498493\n",
       "3...   \n",
       "37  0     0.179667\n",
       "1    -0.724257\n",
       "2    -0.223563\n",
       "3...   \n",
       "\n",
       "                                                dim_3  \\\n",
       "11  0    -0.087891\n",
       "1    -0.087891\n",
       "2    -2.716640\n",
       "3...   \n",
       "7   0    -0.167792\n",
       "1    -0.167792\n",
       "2     0.170456\n",
       "3...   \n",
       "31  0    -0.253020\n",
       "1    -0.253020\n",
       "2    -0.354229\n",
       "3...   \n",
       "17  0    -0.788358\n",
       "1    -0.788358\n",
       "2     2.434323\n",
       "3...   \n",
       "37  0     0.364882\n",
       "1    -1.163894\n",
       "2    -2.543521\n",
       "3...   \n",
       "\n",
       "                                                dim_4  \\\n",
       "11  0     0.010653\n",
       "1     0.010653\n",
       "2     1.297062\n",
       "3...   \n",
       "7   0    -0.093218\n",
       "1    -0.093218\n",
       "2    -0.117188\n",
       "3...   \n",
       "31  0    -0.082565\n",
       "1    -0.082565\n",
       "2    -0.516694\n",
       "3...   \n",
       "17  0     0.316941\n",
       "1     0.316941\n",
       "2    -0.079901\n",
       "3...   \n",
       "37  0    -0.237040\n",
       "1    -0.101208\n",
       "2     0.402169\n",
       "3...   \n",
       "\n",
       "                                                dim_5  \n",
       "11  0     0.205080\n",
       "1     0.205080\n",
       "2    -0.609912\n",
       "3...  \n",
       "7   0     0.157139\n",
       "1     0.157139\n",
       "2     0.719111\n",
       "3...  \n",
       "31  0    -0.090555\n",
       "1    -0.090555\n",
       "2     1.470182\n",
       "3...  \n",
       "17  0     0.588605\n",
       "1     0.588605\n",
       "2     6.535916\n",
       "3...  \n",
       "37  0     0.386189\n",
       "1    -0.165129\n",
       "2    -0.897557\n",
       "3...  "
      ]
     },
     "execution_count": 9,
     "metadata": {},
     "output_type": "execute_result"
    }
   ],
   "source": [
    "# multivariate input data\n",
    "X_train.head()"
   ]
  },
  {
   "cell_type": "code",
   "execution_count": 10,
   "metadata": {
    "scrolled": true
   },
   "outputs": [
    {
     "name": "stderr",
     "output_type": "stream",
     "text": [
      "/Users/travis/build/alan-turing-institute/sktime/sktime/transformers/series_as_features/summarize/_tsfresh.py:150: UserWarning: Found non-unique index, replaced with unique index.\n",
      "  warn(\"Found non-unique index, replaced with unique index.\")\n"
     ]
    },
    {
     "name": "stderr",
     "output_type": "stream",
     "text": [
      "\r",
      "Feature Extraction:   0%|          | 0/5 [00:00<?, ?it/s]"
     ]
    },
    {
     "name": "stderr",
     "output_type": "stream",
     "text": [
      "\r",
      "Feature Extraction:  20%|██        | 1/5 [00:10<00:41, 10.42s/it]"
     ]
    },
    {
     "name": "stderr",
     "output_type": "stream",
     "text": [
      "\r",
      "Feature Extraction:  40%|████      | 2/5 [00:18<00:28,  9.60s/it]"
     ]
    },
    {
     "name": "stderr",
     "output_type": "stream",
     "text": [
      "\r",
      "Feature Extraction:  60%|██████    | 3/5 [00:25<00:17,  8.98s/it]"
     ]
    },
    {
     "name": "stderr",
     "output_type": "stream",
     "text": [
      "\r",
      "Feature Extraction:  80%|████████  | 4/5 [00:33<00:08,  8.60s/it]"
     ]
    },
    {
     "name": "stderr",
     "output_type": "stream",
     "text": [
      "\r",
      "Feature Extraction: 100%|██████████| 5/5 [00:41<00:00,  8.37s/it]"
     ]
    },
    {
     "name": "stderr",
     "output_type": "stream",
     "text": [
      "\r",
      "Feature Extraction: 100%|██████████| 5/5 [00:41<00:00,  8.24s/it]"
     ]
    },
    {
     "name": "stderr",
     "output_type": "stream",
     "text": [
      "\n"
     ]
    },
    {
     "data": {
      "text/html": [
       "<div>\n",
       "<style scoped>\n",
       "    .dataframe tbody tr th:only-of-type {\n",
       "        vertical-align: middle;\n",
       "    }\n",
       "\n",
       "    .dataframe tbody tr th {\n",
       "        vertical-align: top;\n",
       "    }\n",
       "\n",
       "    .dataframe thead th {\n",
       "        text-align: right;\n",
       "    }\n",
       "</style>\n",
       "<table border=\"1\" class=\"dataframe\">\n",
       "  <thead>\n",
       "    <tr style=\"text-align: right;\">\n",
       "      <th>variable</th>\n",
       "      <th>dim_0__abs_energy</th>\n",
       "      <th>dim_0__absolute_sum_of_changes</th>\n",
       "      <th>dim_0__agg_autocorrelation__f_agg_\"mean\"__maxlag_40</th>\n",
       "      <th>dim_0__agg_autocorrelation__f_agg_\"median\"__maxlag_40</th>\n",
       "      <th>dim_0__agg_autocorrelation__f_agg_\"var\"__maxlag_40</th>\n",
       "      <th>dim_0__agg_linear_trend__attr_\"intercept\"__chunk_len_10__f_agg_\"max\"</th>\n",
       "      <th>dim_0__agg_linear_trend__attr_\"intercept\"__chunk_len_10__f_agg_\"mean\"</th>\n",
       "      <th>dim_0__agg_linear_trend__attr_\"intercept\"__chunk_len_10__f_agg_\"min\"</th>\n",
       "      <th>dim_0__agg_linear_trend__attr_\"intercept\"__chunk_len_10__f_agg_\"var\"</th>\n",
       "      <th>dim_0__agg_linear_trend__attr_\"intercept\"__chunk_len_50__f_agg_\"max\"</th>\n",
       "      <th>...</th>\n",
       "      <th>dim_5__symmetry_looking__r_0.9500000000000001</th>\n",
       "      <th>dim_5__time_reversal_asymmetry_statistic__lag_1</th>\n",
       "      <th>dim_5__time_reversal_asymmetry_statistic__lag_2</th>\n",
       "      <th>dim_5__time_reversal_asymmetry_statistic__lag_3</th>\n",
       "      <th>dim_5__value_count__value_-1</th>\n",
       "      <th>dim_5__value_count__value_0</th>\n",
       "      <th>dim_5__value_count__value_1</th>\n",
       "      <th>dim_5__variance</th>\n",
       "      <th>dim_5__variance_larger_than_standard_deviation</th>\n",
       "      <th>dim_5__variation_coefficient</th>\n",
       "    </tr>\n",
       "  </thead>\n",
       "  <tbody>\n",
       "    <tr>\n",
       "      <th>0</th>\n",
       "      <td>13280.972257</td>\n",
       "      <td>726.744990</td>\n",
       "      <td>0.005215</td>\n",
       "      <td>-0.029945</td>\n",
       "      <td>0.123133</td>\n",
       "      <td>18.288784</td>\n",
       "      <td>6.971683</td>\n",
       "      <td>-11.289033</td>\n",
       "      <td>100.790019</td>\n",
       "      <td>19.279316</td>\n",
       "      <td>...</td>\n",
       "      <td>1.0</td>\n",
       "      <td>6.521279</td>\n",
       "      <td>12.335605</td>\n",
       "      <td>25.936007</td>\n",
       "      <td>0.0</td>\n",
       "      <td>0.0</td>\n",
       "      <td>0.0</td>\n",
       "      <td>22.050060</td>\n",
       "      <td>1.0</td>\n",
       "      <td>-68.020217</td>\n",
       "    </tr>\n",
       "    <tr>\n",
       "      <th>1</th>\n",
       "      <td>3.691654</td>\n",
       "      <td>14.661708</td>\n",
       "      <td>-0.000830</td>\n",
       "      <td>0.003338</td>\n",
       "      <td>0.008945</td>\n",
       "      <td>0.196186</td>\n",
       "      <td>-0.098368</td>\n",
       "      <td>-0.380317</td>\n",
       "      <td>0.033669</td>\n",
       "      <td>0.301496</td>\n",
       "      <td>...</td>\n",
       "      <td>1.0</td>\n",
       "      <td>-0.009847</td>\n",
       "      <td>-0.015825</td>\n",
       "      <td>-0.003979</td>\n",
       "      <td>0.0</td>\n",
       "      <td>0.0</td>\n",
       "      <td>0.0</td>\n",
       "      <td>0.166792</td>\n",
       "      <td>0.0</td>\n",
       "      <td>-79.451065</td>\n",
       "    </tr>\n",
       "    <tr>\n",
       "      <th>2</th>\n",
       "      <td>5923.622075</td>\n",
       "      <td>351.902197</td>\n",
       "      <td>-0.022711</td>\n",
       "      <td>-0.054728</td>\n",
       "      <td>0.045949</td>\n",
       "      <td>18.952323</td>\n",
       "      <td>4.786800</td>\n",
       "      <td>-1.586263</td>\n",
       "      <td>44.834159</td>\n",
       "      <td>28.002060</td>\n",
       "      <td>...</td>\n",
       "      <td>1.0</td>\n",
       "      <td>-1.762020</td>\n",
       "      <td>4.734516</td>\n",
       "      <td>13.574916</td>\n",
       "      <td>0.0</td>\n",
       "      <td>0.0</td>\n",
       "      <td>0.0</td>\n",
       "      <td>12.647317</td>\n",
       "      <td>1.0</td>\n",
       "      <td>-97.393541</td>\n",
       "    </tr>\n",
       "    <tr>\n",
       "      <th>3</th>\n",
       "      <td>13876.020277</td>\n",
       "      <td>736.256653</td>\n",
       "      <td>0.005391</td>\n",
       "      <td>-0.171305</td>\n",
       "      <td>0.184510</td>\n",
       "      <td>14.628194</td>\n",
       "      <td>5.399811</td>\n",
       "      <td>-12.349274</td>\n",
       "      <td>75.352924</td>\n",
       "      <td>18.280817</td>\n",
       "      <td>...</td>\n",
       "      <td>1.0</td>\n",
       "      <td>2.145671</td>\n",
       "      <td>14.394118</td>\n",
       "      <td>24.538999</td>\n",
       "      <td>0.0</td>\n",
       "      <td>0.0</td>\n",
       "      <td>0.0</td>\n",
       "      <td>26.763240</td>\n",
       "      <td>1.0</td>\n",
       "      <td>-23.953564</td>\n",
       "    </tr>\n",
       "    <tr>\n",
       "      <th>4</th>\n",
       "      <td>4714.701692</td>\n",
       "      <td>322.216220</td>\n",
       "      <td>-0.022158</td>\n",
       "      <td>-0.084826</td>\n",
       "      <td>0.029915</td>\n",
       "      <td>14.487910</td>\n",
       "      <td>4.354974</td>\n",
       "      <td>-0.810924</td>\n",
       "      <td>29.428908</td>\n",
       "      <td>24.485662</td>\n",
       "      <td>...</td>\n",
       "      <td>1.0</td>\n",
       "      <td>-23.548452</td>\n",
       "      <td>-10.957499</td>\n",
       "      <td>3.340874</td>\n",
       "      <td>0.0</td>\n",
       "      <td>0.0</td>\n",
       "      <td>0.0</td>\n",
       "      <td>11.976400</td>\n",
       "      <td>1.0</td>\n",
       "      <td>10.264358</td>\n",
       "    </tr>\n",
       "  </tbody>\n",
       "</table>\n",
       "<p>5 rows × 4542 columns</p>\n",
       "</div>"
      ],
      "text/plain": [
       "variable  dim_0__abs_energy  dim_0__absolute_sum_of_changes  \\\n",
       "0              13280.972257                      726.744990   \n",
       "1                  3.691654                       14.661708   \n",
       "2               5923.622075                      351.902197   \n",
       "3              13876.020277                      736.256653   \n",
       "4               4714.701692                      322.216220   \n",
       "\n",
       "variable  dim_0__agg_autocorrelation__f_agg_\"mean\"__maxlag_40  \\\n",
       "0                                                  0.005215     \n",
       "1                                                 -0.000830     \n",
       "2                                                 -0.022711     \n",
       "3                                                  0.005391     \n",
       "4                                                 -0.022158     \n",
       "\n",
       "variable  dim_0__agg_autocorrelation__f_agg_\"median\"__maxlag_40  \\\n",
       "0                                                 -0.029945       \n",
       "1                                                  0.003338       \n",
       "2                                                 -0.054728       \n",
       "3                                                 -0.171305       \n",
       "4                                                 -0.084826       \n",
       "\n",
       "variable  dim_0__agg_autocorrelation__f_agg_\"var\"__maxlag_40  \\\n",
       "0                                                  0.123133    \n",
       "1                                                  0.008945    \n",
       "2                                                  0.045949    \n",
       "3                                                  0.184510    \n",
       "4                                                  0.029915    \n",
       "\n",
       "variable  dim_0__agg_linear_trend__attr_\"intercept\"__chunk_len_10__f_agg_\"max\"  \\\n",
       "0                                                 18.288784                      \n",
       "1                                                  0.196186                      \n",
       "2                                                 18.952323                      \n",
       "3                                                 14.628194                      \n",
       "4                                                 14.487910                      \n",
       "\n",
       "variable  dim_0__agg_linear_trend__attr_\"intercept\"__chunk_len_10__f_agg_\"mean\"  \\\n",
       "0                                                  6.971683                       \n",
       "1                                                 -0.098368                       \n",
       "2                                                  4.786800                       \n",
       "3                                                  5.399811                       \n",
       "4                                                  4.354974                       \n",
       "\n",
       "variable  dim_0__agg_linear_trend__attr_\"intercept\"__chunk_len_10__f_agg_\"min\"  \\\n",
       "0                                                -11.289033                      \n",
       "1                                                 -0.380317                      \n",
       "2                                                 -1.586263                      \n",
       "3                                                -12.349274                      \n",
       "4                                                 -0.810924                      \n",
       "\n",
       "variable  dim_0__agg_linear_trend__attr_\"intercept\"__chunk_len_10__f_agg_\"var\"  \\\n",
       "0                                                100.790019                      \n",
       "1                                                  0.033669                      \n",
       "2                                                 44.834159                      \n",
       "3                                                 75.352924                      \n",
       "4                                                 29.428908                      \n",
       "\n",
       "variable  dim_0__agg_linear_trend__attr_\"intercept\"__chunk_len_50__f_agg_\"max\"  \\\n",
       "0                                                 19.279316                      \n",
       "1                                                  0.301496                      \n",
       "2                                                 28.002060                      \n",
       "3                                                 18.280817                      \n",
       "4                                                 24.485662                      \n",
       "\n",
       "variable  ...  dim_5__symmetry_looking__r_0.9500000000000001  \\\n",
       "0         ...                                            1.0   \n",
       "1         ...                                            1.0   \n",
       "2         ...                                            1.0   \n",
       "3         ...                                            1.0   \n",
       "4         ...                                            1.0   \n",
       "\n",
       "variable  dim_5__time_reversal_asymmetry_statistic__lag_1  \\\n",
       "0                                                6.521279   \n",
       "1                                               -0.009847   \n",
       "2                                               -1.762020   \n",
       "3                                                2.145671   \n",
       "4                                              -23.548452   \n",
       "\n",
       "variable  dim_5__time_reversal_asymmetry_statistic__lag_2  \\\n",
       "0                                               12.335605   \n",
       "1                                               -0.015825   \n",
       "2                                                4.734516   \n",
       "3                                               14.394118   \n",
       "4                                              -10.957499   \n",
       "\n",
       "variable  dim_5__time_reversal_asymmetry_statistic__lag_3  \\\n",
       "0                                               25.936007   \n",
       "1                                               -0.003979   \n",
       "2                                               13.574916   \n",
       "3                                               24.538999   \n",
       "4                                                3.340874   \n",
       "\n",
       "variable  dim_5__value_count__value_-1  dim_5__value_count__value_0  \\\n",
       "0                                  0.0                          0.0   \n",
       "1                                  0.0                          0.0   \n",
       "2                                  0.0                          0.0   \n",
       "3                                  0.0                          0.0   \n",
       "4                                  0.0                          0.0   \n",
       "\n",
       "variable  dim_5__value_count__value_1  dim_5__variance  \\\n",
       "0                                 0.0        22.050060   \n",
       "1                                 0.0         0.166792   \n",
       "2                                 0.0        12.647317   \n",
       "3                                 0.0        26.763240   \n",
       "4                                 0.0        11.976400   \n",
       "\n",
       "variable  dim_5__variance_larger_than_standard_deviation  \\\n",
       "0                                                    1.0   \n",
       "1                                                    0.0   \n",
       "2                                                    1.0   \n",
       "3                                                    1.0   \n",
       "4                                                    1.0   \n",
       "\n",
       "variable  dim_5__variation_coefficient  \n",
       "0                           -68.020217  \n",
       "1                           -79.451065  \n",
       "2                           -97.393541  \n",
       "3                           -23.953564  \n",
       "4                            10.264358  \n",
       "\n",
       "[5 rows x 4542 columns]"
      ]
     },
     "execution_count": 10,
     "metadata": {},
     "output_type": "execute_result"
    }
   ],
   "source": [
    "t = TSFreshFeatureExtractor(default_fc_parameters=\"efficient\", show_warnings=False)\n",
    "Xt = t.fit_transform(X_train)\n",
    "Xt.head()"
   ]
  }
 ],
 "metadata": {
  "kernelspec": {
   "display_name": "Python 3",
   "language": "python",
   "name": "python3"
  },
  "language_info": {
   "codemirror_mode": {
    "name": "ipython",
    "version": 3
   },
   "file_extension": ".py",
   "mimetype": "text/x-python",
   "name": "python",
   "nbconvert_exporter": "python",
   "pygments_lexer": "ipython3",
   "version": "3.7.7"
  }
 },
 "nbformat": 4,
 "nbformat_minor": 4
}
